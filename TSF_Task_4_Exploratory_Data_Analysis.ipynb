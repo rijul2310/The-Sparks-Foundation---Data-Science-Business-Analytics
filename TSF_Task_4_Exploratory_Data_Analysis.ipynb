{
  "nbformat": 4,
  "nbformat_minor": 0,
  "metadata": {
    "colab": {
      "name": "TSF Task 4 - Exploratory Data Analysis.ipynb",
      "provenance": []
    },
    "kernelspec": {
      "name": "python3",
      "display_name": "Python 3"
    },
    "language_info": {
      "name": "python"
    }
  },
  "cells": [
    {
      "cell_type": "markdown",
      "metadata": {
        "id": "eUqeVgKWNKnJ"
      },
      "source": [
        "# **The Sparks Foundation**\n",
        "### Data Science & Business Analytics\n",
        "\n",
        "---\n",
        "\n",
        "\n",
        "**Task 4** - Exploratory Data Analysis - Terrorism\n",
        "\n",
        "---\n",
        "\n",
        "\n",
        "**Description**: As a security/defense analyst, try to find out the hot zone of terrorism. What all security issues and insights you can derive by EDA?"
      ]
    },
    {
      "cell_type": "markdown",
      "metadata": {
        "id": "bOpTsItbNm4x"
      },
      "source": [
        "**Data Set** - https://bit.ly/2TK5Xn5"
      ]
    },
    {
      "cell_type": "markdown",
      "metadata": {
        "id": "UBcDdOnZNt9M"
      },
      "source": [
        "**Executed by** - Rijul Kumar | rijul2310@gmail.com\n",
        "\n",
        "---\n",
        "\n"
      ]
    },
    {
      "cell_type": "markdown",
      "metadata": {
        "id": "Zx1JDAqYN0C3"
      },
      "source": [
        "**Importing Libraries**"
      ]
    },
    {
      "cell_type": "code",
      "metadata": {
        "id": "mYFdk08AMGIe"
      },
      "source": [
        "import pandas as pd\n",
        "import numpy as np\n",
        "import matplotlib.pyplot as plt\n",
        "%matplotlib inline\n",
        "import seaborn as sns"
      ],
      "execution_count": 3,
      "outputs": []
    },
    {
      "cell_type": "markdown",
      "metadata": {
        "id": "Tl2CdaKeOAKl"
      },
      "source": [
        "**Importing Dataset**"
      ]
    },
    {
      "cell_type": "code",
      "metadata": {
        "colab": {
          "base_uri": "https://localhost:8080/",
          "height": 370
        },
        "id": "IemiZRrHN486",
        "outputId": "ddf7795d-e050-449a-dcf6-d48a1f3d48f5"
      },
      "source": [
        "df = pd.read_csv(\"globalterrorismdb_0718dist.csv\", low_memory=False, encoding=\"latin-1\")\n",
        "df.head()"
      ],
      "execution_count": 13,
      "outputs": [
        {
          "output_type": "execute_result",
          "data": {
            "text/html": [
              "<div>\n",
              "<style scoped>\n",
              "    .dataframe tbody tr th:only-of-type {\n",
              "        vertical-align: middle;\n",
              "    }\n",
              "\n",
              "    .dataframe tbody tr th {\n",
              "        vertical-align: top;\n",
              "    }\n",
              "\n",
              "    .dataframe thead th {\n",
              "        text-align: right;\n",
              "    }\n",
              "</style>\n",
              "<table border=\"1\" class=\"dataframe\">\n",
              "  <thead>\n",
              "    <tr style=\"text-align: right;\">\n",
              "      <th></th>\n",
              "      <th>eventid</th>\n",
              "      <th>iyear</th>\n",
              "      <th>imonth</th>\n",
              "      <th>iday</th>\n",
              "      <th>approxdate</th>\n",
              "      <th>extended</th>\n",
              "      <th>resolution</th>\n",
              "      <th>country</th>\n",
              "      <th>country_txt</th>\n",
              "      <th>region</th>\n",
              "      <th>region_txt</th>\n",
              "      <th>provstate</th>\n",
              "      <th>city</th>\n",
              "      <th>latitude</th>\n",
              "      <th>longitude</th>\n",
              "      <th>specificity</th>\n",
              "      <th>vicinity</th>\n",
              "      <th>location</th>\n",
              "      <th>summary</th>\n",
              "      <th>crit1</th>\n",
              "      <th>crit2</th>\n",
              "      <th>crit3</th>\n",
              "      <th>doubtterr</th>\n",
              "      <th>alternative</th>\n",
              "      <th>alternative_txt</th>\n",
              "      <th>multiple</th>\n",
              "      <th>success</th>\n",
              "      <th>suicide</th>\n",
              "      <th>attacktype1</th>\n",
              "      <th>attacktype1_txt</th>\n",
              "      <th>attacktype2</th>\n",
              "      <th>attacktype2_txt</th>\n",
              "      <th>attacktype3</th>\n",
              "      <th>attacktype3_txt</th>\n",
              "      <th>targtype1</th>\n",
              "      <th>targtype1_txt</th>\n",
              "      <th>targsubtype1</th>\n",
              "      <th>targsubtype1_txt</th>\n",
              "      <th>corp1</th>\n",
              "      <th>target1</th>\n",
              "      <th>...</th>\n",
              "      <th>weapsubtype4</th>\n",
              "      <th>weapsubtype4_txt</th>\n",
              "      <th>weapdetail</th>\n",
              "      <th>nkill</th>\n",
              "      <th>nkillus</th>\n",
              "      <th>nkillter</th>\n",
              "      <th>nwound</th>\n",
              "      <th>nwoundus</th>\n",
              "      <th>nwoundte</th>\n",
              "      <th>property</th>\n",
              "      <th>propextent</th>\n",
              "      <th>propextent_txt</th>\n",
              "      <th>propvalue</th>\n",
              "      <th>propcomment</th>\n",
              "      <th>ishostkid</th>\n",
              "      <th>nhostkid</th>\n",
              "      <th>nhostkidus</th>\n",
              "      <th>nhours</th>\n",
              "      <th>ndays</th>\n",
              "      <th>divert</th>\n",
              "      <th>kidhijcountry</th>\n",
              "      <th>ransom</th>\n",
              "      <th>ransomamt</th>\n",
              "      <th>ransomamtus</th>\n",
              "      <th>ransompaid</th>\n",
              "      <th>ransompaidus</th>\n",
              "      <th>ransomnote</th>\n",
              "      <th>hostkidoutcome</th>\n",
              "      <th>hostkidoutcome_txt</th>\n",
              "      <th>nreleased</th>\n",
              "      <th>addnotes</th>\n",
              "      <th>scite1</th>\n",
              "      <th>scite2</th>\n",
              "      <th>scite3</th>\n",
              "      <th>dbsource</th>\n",
              "      <th>INT_LOG</th>\n",
              "      <th>INT_IDEO</th>\n",
              "      <th>INT_MISC</th>\n",
              "      <th>INT_ANY</th>\n",
              "      <th>related</th>\n",
              "    </tr>\n",
              "  </thead>\n",
              "  <tbody>\n",
              "    <tr>\n",
              "      <th>0</th>\n",
              "      <td>197000000001</td>\n",
              "      <td>1970</td>\n",
              "      <td>7</td>\n",
              "      <td>2</td>\n",
              "      <td>NaN</td>\n",
              "      <td>0</td>\n",
              "      <td>NaN</td>\n",
              "      <td>58</td>\n",
              "      <td>Dominican Republic</td>\n",
              "      <td>2</td>\n",
              "      <td>Central America &amp; Caribbean</td>\n",
              "      <td>NaN</td>\n",
              "      <td>Santo Domingo</td>\n",
              "      <td>18.456792</td>\n",
              "      <td>-69.951164</td>\n",
              "      <td>1.0</td>\n",
              "      <td>0</td>\n",
              "      <td>NaN</td>\n",
              "      <td>NaN</td>\n",
              "      <td>1</td>\n",
              "      <td>1</td>\n",
              "      <td>1</td>\n",
              "      <td>0.0</td>\n",
              "      <td>NaN</td>\n",
              "      <td>NaN</td>\n",
              "      <td>0.0</td>\n",
              "      <td>1</td>\n",
              "      <td>0</td>\n",
              "      <td>1</td>\n",
              "      <td>Assassination</td>\n",
              "      <td>NaN</td>\n",
              "      <td>NaN</td>\n",
              "      <td>NaN</td>\n",
              "      <td>NaN</td>\n",
              "      <td>14</td>\n",
              "      <td>Private Citizens &amp; Property</td>\n",
              "      <td>68.0</td>\n",
              "      <td>Named Civilian</td>\n",
              "      <td>NaN</td>\n",
              "      <td>Julio Guzman</td>\n",
              "      <td>...</td>\n",
              "      <td>NaN</td>\n",
              "      <td>NaN</td>\n",
              "      <td>NaN</td>\n",
              "      <td>1.0</td>\n",
              "      <td>NaN</td>\n",
              "      <td>NaN</td>\n",
              "      <td>0.0</td>\n",
              "      <td>NaN</td>\n",
              "      <td>NaN</td>\n",
              "      <td>0</td>\n",
              "      <td>NaN</td>\n",
              "      <td>NaN</td>\n",
              "      <td>NaN</td>\n",
              "      <td>NaN</td>\n",
              "      <td>0.0</td>\n",
              "      <td>NaN</td>\n",
              "      <td>NaN</td>\n",
              "      <td>NaN</td>\n",
              "      <td>NaN</td>\n",
              "      <td>NaN</td>\n",
              "      <td>NaN</td>\n",
              "      <td>0.0</td>\n",
              "      <td>NaN</td>\n",
              "      <td>NaN</td>\n",
              "      <td>NaN</td>\n",
              "      <td>NaN</td>\n",
              "      <td>NaN</td>\n",
              "      <td>NaN</td>\n",
              "      <td>NaN</td>\n",
              "      <td>NaN</td>\n",
              "      <td>NaN</td>\n",
              "      <td>NaN</td>\n",
              "      <td>NaN</td>\n",
              "      <td>NaN</td>\n",
              "      <td>PGIS</td>\n",
              "      <td>0</td>\n",
              "      <td>0</td>\n",
              "      <td>0</td>\n",
              "      <td>0</td>\n",
              "      <td>NaN</td>\n",
              "    </tr>\n",
              "    <tr>\n",
              "      <th>1</th>\n",
              "      <td>197000000002</td>\n",
              "      <td>1970</td>\n",
              "      <td>0</td>\n",
              "      <td>0</td>\n",
              "      <td>NaN</td>\n",
              "      <td>0</td>\n",
              "      <td>NaN</td>\n",
              "      <td>130</td>\n",
              "      <td>Mexico</td>\n",
              "      <td>1</td>\n",
              "      <td>North America</td>\n",
              "      <td>Federal</td>\n",
              "      <td>Mexico city</td>\n",
              "      <td>19.371887</td>\n",
              "      <td>-99.086624</td>\n",
              "      <td>1.0</td>\n",
              "      <td>0</td>\n",
              "      <td>NaN</td>\n",
              "      <td>NaN</td>\n",
              "      <td>1</td>\n",
              "      <td>1</td>\n",
              "      <td>1</td>\n",
              "      <td>0.0</td>\n",
              "      <td>NaN</td>\n",
              "      <td>NaN</td>\n",
              "      <td>0.0</td>\n",
              "      <td>1</td>\n",
              "      <td>0</td>\n",
              "      <td>6</td>\n",
              "      <td>Hostage Taking (Kidnapping)</td>\n",
              "      <td>NaN</td>\n",
              "      <td>NaN</td>\n",
              "      <td>NaN</td>\n",
              "      <td>NaN</td>\n",
              "      <td>7</td>\n",
              "      <td>Government (Diplomatic)</td>\n",
              "      <td>45.0</td>\n",
              "      <td>Diplomatic Personnel (outside of embassy, cons...</td>\n",
              "      <td>Belgian Ambassador Daughter</td>\n",
              "      <td>Nadine Chaval, daughter</td>\n",
              "      <td>...</td>\n",
              "      <td>NaN</td>\n",
              "      <td>NaN</td>\n",
              "      <td>NaN</td>\n",
              "      <td>0.0</td>\n",
              "      <td>NaN</td>\n",
              "      <td>NaN</td>\n",
              "      <td>0.0</td>\n",
              "      <td>NaN</td>\n",
              "      <td>NaN</td>\n",
              "      <td>0</td>\n",
              "      <td>NaN</td>\n",
              "      <td>NaN</td>\n",
              "      <td>NaN</td>\n",
              "      <td>NaN</td>\n",
              "      <td>1.0</td>\n",
              "      <td>1.0</td>\n",
              "      <td>0.0</td>\n",
              "      <td>NaN</td>\n",
              "      <td>NaN</td>\n",
              "      <td>NaN</td>\n",
              "      <td>Mexico</td>\n",
              "      <td>1.0</td>\n",
              "      <td>800000.0</td>\n",
              "      <td>NaN</td>\n",
              "      <td>NaN</td>\n",
              "      <td>NaN</td>\n",
              "      <td>NaN</td>\n",
              "      <td>NaN</td>\n",
              "      <td>NaN</td>\n",
              "      <td>NaN</td>\n",
              "      <td>NaN</td>\n",
              "      <td>NaN</td>\n",
              "      <td>NaN</td>\n",
              "      <td>NaN</td>\n",
              "      <td>PGIS</td>\n",
              "      <td>0</td>\n",
              "      <td>1</td>\n",
              "      <td>1</td>\n",
              "      <td>1</td>\n",
              "      <td>NaN</td>\n",
              "    </tr>\n",
              "    <tr>\n",
              "      <th>2</th>\n",
              "      <td>197001000001</td>\n",
              "      <td>1970</td>\n",
              "      <td>1</td>\n",
              "      <td>0</td>\n",
              "      <td>NaN</td>\n",
              "      <td>0</td>\n",
              "      <td>NaN</td>\n",
              "      <td>160</td>\n",
              "      <td>Philippines</td>\n",
              "      <td>5</td>\n",
              "      <td>Southeast Asia</td>\n",
              "      <td>Tarlac</td>\n",
              "      <td>Unknown</td>\n",
              "      <td>15.478598</td>\n",
              "      <td>120.599741</td>\n",
              "      <td>4.0</td>\n",
              "      <td>0</td>\n",
              "      <td>NaN</td>\n",
              "      <td>NaN</td>\n",
              "      <td>1</td>\n",
              "      <td>1</td>\n",
              "      <td>1</td>\n",
              "      <td>0.0</td>\n",
              "      <td>NaN</td>\n",
              "      <td>NaN</td>\n",
              "      <td>0.0</td>\n",
              "      <td>1</td>\n",
              "      <td>0</td>\n",
              "      <td>1</td>\n",
              "      <td>Assassination</td>\n",
              "      <td>NaN</td>\n",
              "      <td>NaN</td>\n",
              "      <td>NaN</td>\n",
              "      <td>NaN</td>\n",
              "      <td>10</td>\n",
              "      <td>Journalists &amp; Media</td>\n",
              "      <td>54.0</td>\n",
              "      <td>Radio Journalist/Staff/Facility</td>\n",
              "      <td>Voice of America</td>\n",
              "      <td>Employee</td>\n",
              "      <td>...</td>\n",
              "      <td>NaN</td>\n",
              "      <td>NaN</td>\n",
              "      <td>NaN</td>\n",
              "      <td>1.0</td>\n",
              "      <td>NaN</td>\n",
              "      <td>NaN</td>\n",
              "      <td>0.0</td>\n",
              "      <td>NaN</td>\n",
              "      <td>NaN</td>\n",
              "      <td>0</td>\n",
              "      <td>NaN</td>\n",
              "      <td>NaN</td>\n",
              "      <td>NaN</td>\n",
              "      <td>NaN</td>\n",
              "      <td>0.0</td>\n",
              "      <td>NaN</td>\n",
              "      <td>NaN</td>\n",
              "      <td>NaN</td>\n",
              "      <td>NaN</td>\n",
              "      <td>NaN</td>\n",
              "      <td>NaN</td>\n",
              "      <td>0.0</td>\n",
              "      <td>NaN</td>\n",
              "      <td>NaN</td>\n",
              "      <td>NaN</td>\n",
              "      <td>NaN</td>\n",
              "      <td>NaN</td>\n",
              "      <td>NaN</td>\n",
              "      <td>NaN</td>\n",
              "      <td>NaN</td>\n",
              "      <td>NaN</td>\n",
              "      <td>NaN</td>\n",
              "      <td>NaN</td>\n",
              "      <td>NaN</td>\n",
              "      <td>PGIS</td>\n",
              "      <td>-9</td>\n",
              "      <td>-9</td>\n",
              "      <td>1</td>\n",
              "      <td>1</td>\n",
              "      <td>NaN</td>\n",
              "    </tr>\n",
              "    <tr>\n",
              "      <th>3</th>\n",
              "      <td>197001000002</td>\n",
              "      <td>1970</td>\n",
              "      <td>1</td>\n",
              "      <td>0</td>\n",
              "      <td>NaN</td>\n",
              "      <td>0</td>\n",
              "      <td>NaN</td>\n",
              "      <td>78</td>\n",
              "      <td>Greece</td>\n",
              "      <td>8</td>\n",
              "      <td>Western Europe</td>\n",
              "      <td>Attica</td>\n",
              "      <td>Athens</td>\n",
              "      <td>37.997490</td>\n",
              "      <td>23.762728</td>\n",
              "      <td>1.0</td>\n",
              "      <td>0</td>\n",
              "      <td>NaN</td>\n",
              "      <td>NaN</td>\n",
              "      <td>1</td>\n",
              "      <td>1</td>\n",
              "      <td>1</td>\n",
              "      <td>0.0</td>\n",
              "      <td>NaN</td>\n",
              "      <td>NaN</td>\n",
              "      <td>0.0</td>\n",
              "      <td>1</td>\n",
              "      <td>0</td>\n",
              "      <td>3</td>\n",
              "      <td>Bombing/Explosion</td>\n",
              "      <td>NaN</td>\n",
              "      <td>NaN</td>\n",
              "      <td>NaN</td>\n",
              "      <td>NaN</td>\n",
              "      <td>7</td>\n",
              "      <td>Government (Diplomatic)</td>\n",
              "      <td>46.0</td>\n",
              "      <td>Embassy/Consulate</td>\n",
              "      <td>NaN</td>\n",
              "      <td>U.S. Embassy</td>\n",
              "      <td>...</td>\n",
              "      <td>NaN</td>\n",
              "      <td>NaN</td>\n",
              "      <td>Explosive</td>\n",
              "      <td>NaN</td>\n",
              "      <td>NaN</td>\n",
              "      <td>NaN</td>\n",
              "      <td>NaN</td>\n",
              "      <td>NaN</td>\n",
              "      <td>NaN</td>\n",
              "      <td>1</td>\n",
              "      <td>NaN</td>\n",
              "      <td>NaN</td>\n",
              "      <td>NaN</td>\n",
              "      <td>NaN</td>\n",
              "      <td>0.0</td>\n",
              "      <td>NaN</td>\n",
              "      <td>NaN</td>\n",
              "      <td>NaN</td>\n",
              "      <td>NaN</td>\n",
              "      <td>NaN</td>\n",
              "      <td>NaN</td>\n",
              "      <td>0.0</td>\n",
              "      <td>NaN</td>\n",
              "      <td>NaN</td>\n",
              "      <td>NaN</td>\n",
              "      <td>NaN</td>\n",
              "      <td>NaN</td>\n",
              "      <td>NaN</td>\n",
              "      <td>NaN</td>\n",
              "      <td>NaN</td>\n",
              "      <td>NaN</td>\n",
              "      <td>NaN</td>\n",
              "      <td>NaN</td>\n",
              "      <td>NaN</td>\n",
              "      <td>PGIS</td>\n",
              "      <td>-9</td>\n",
              "      <td>-9</td>\n",
              "      <td>1</td>\n",
              "      <td>1</td>\n",
              "      <td>NaN</td>\n",
              "    </tr>\n",
              "    <tr>\n",
              "      <th>4</th>\n",
              "      <td>197001000003</td>\n",
              "      <td>1970</td>\n",
              "      <td>1</td>\n",
              "      <td>0</td>\n",
              "      <td>NaN</td>\n",
              "      <td>0</td>\n",
              "      <td>NaN</td>\n",
              "      <td>101</td>\n",
              "      <td>Japan</td>\n",
              "      <td>4</td>\n",
              "      <td>East Asia</td>\n",
              "      <td>Fukouka</td>\n",
              "      <td>Fukouka</td>\n",
              "      <td>33.580412</td>\n",
              "      <td>130.396361</td>\n",
              "      <td>1.0</td>\n",
              "      <td>0</td>\n",
              "      <td>NaN</td>\n",
              "      <td>NaN</td>\n",
              "      <td>1</td>\n",
              "      <td>1</td>\n",
              "      <td>1</td>\n",
              "      <td>-9.0</td>\n",
              "      <td>NaN</td>\n",
              "      <td>NaN</td>\n",
              "      <td>0.0</td>\n",
              "      <td>1</td>\n",
              "      <td>0</td>\n",
              "      <td>7</td>\n",
              "      <td>Facility/Infrastructure Attack</td>\n",
              "      <td>NaN</td>\n",
              "      <td>NaN</td>\n",
              "      <td>NaN</td>\n",
              "      <td>NaN</td>\n",
              "      <td>7</td>\n",
              "      <td>Government (Diplomatic)</td>\n",
              "      <td>46.0</td>\n",
              "      <td>Embassy/Consulate</td>\n",
              "      <td>NaN</td>\n",
              "      <td>U.S. Consulate</td>\n",
              "      <td>...</td>\n",
              "      <td>NaN</td>\n",
              "      <td>NaN</td>\n",
              "      <td>Incendiary</td>\n",
              "      <td>NaN</td>\n",
              "      <td>NaN</td>\n",
              "      <td>NaN</td>\n",
              "      <td>NaN</td>\n",
              "      <td>NaN</td>\n",
              "      <td>NaN</td>\n",
              "      <td>1</td>\n",
              "      <td>NaN</td>\n",
              "      <td>NaN</td>\n",
              "      <td>NaN</td>\n",
              "      <td>NaN</td>\n",
              "      <td>0.0</td>\n",
              "      <td>NaN</td>\n",
              "      <td>NaN</td>\n",
              "      <td>NaN</td>\n",
              "      <td>NaN</td>\n",
              "      <td>NaN</td>\n",
              "      <td>NaN</td>\n",
              "      <td>0.0</td>\n",
              "      <td>NaN</td>\n",
              "      <td>NaN</td>\n",
              "      <td>NaN</td>\n",
              "      <td>NaN</td>\n",
              "      <td>NaN</td>\n",
              "      <td>NaN</td>\n",
              "      <td>NaN</td>\n",
              "      <td>NaN</td>\n",
              "      <td>NaN</td>\n",
              "      <td>NaN</td>\n",
              "      <td>NaN</td>\n",
              "      <td>NaN</td>\n",
              "      <td>PGIS</td>\n",
              "      <td>-9</td>\n",
              "      <td>-9</td>\n",
              "      <td>1</td>\n",
              "      <td>1</td>\n",
              "      <td>NaN</td>\n",
              "    </tr>\n",
              "  </tbody>\n",
              "</table>\n",
              "<p>5 rows × 135 columns</p>\n",
              "</div>"
            ],
            "text/plain": [
              "        eventid  iyear  imonth  iday  ... INT_IDEO  INT_MISC INT_ANY  related\n",
              "0  197000000001   1970       7     2  ...        0         0       0      NaN\n",
              "1  197000000002   1970       0     0  ...        1         1       1      NaN\n",
              "2  197001000001   1970       1     0  ...       -9         1       1      NaN\n",
              "3  197001000002   1970       1     0  ...       -9         1       1      NaN\n",
              "4  197001000003   1970       1     0  ...       -9         1       1      NaN\n",
              "\n",
              "[5 rows x 135 columns]"
            ]
          },
          "metadata": {
            "tags": []
          },
          "execution_count": 13
        }
      ]
    },
    {
      "cell_type": "code",
      "metadata": {
        "colab": {
          "base_uri": "https://localhost:8080/"
        },
        "id": "Pjk4g0MeOGSx",
        "outputId": "2c99ef28-3c64-4f4f-9e2b-7c0e1af1677a"
      },
      "source": [
        "df.shape"
      ],
      "execution_count": 14,
      "outputs": [
        {
          "output_type": "execute_result",
          "data": {
            "text/plain": [
              "(181691, 135)"
            ]
          },
          "metadata": {
            "tags": []
          },
          "execution_count": 14
        }
      ]
    },
    {
      "cell_type": "code",
      "metadata": {
        "colab": {
          "base_uri": "https://localhost:8080/"
        },
        "id": "BJCgKNhYPpDP",
        "outputId": "11e91d50-fe1b-47b7-cf9d-50b5d07249d3"
      },
      "source": [
        "df[\"eventid\"].unique().shape"
      ],
      "execution_count": 15,
      "outputs": [
        {
          "output_type": "execute_result",
          "data": {
            "text/plain": [
              "(181691,)"
            ]
          },
          "metadata": {
            "tags": []
          },
          "execution_count": 15
        }
      ]
    },
    {
      "cell_type": "code",
      "metadata": {
        "colab": {
          "base_uri": "https://localhost:8080/"
        },
        "id": "cN-8nnyXewo-",
        "outputId": "6b984b4b-fd7b-4d1f-e508-d0b38e11b1fa"
      },
      "source": [
        "df.info()"
      ],
      "execution_count": 16,
      "outputs": [
        {
          "output_type": "stream",
          "text": [
            "<class 'pandas.core.frame.DataFrame'>\n",
            "RangeIndex: 181691 entries, 0 to 181690\n",
            "Columns: 135 entries, eventid to related\n",
            "dtypes: float64(55), int64(22), object(58)\n",
            "memory usage: 187.1+ MB\n"
          ],
          "name": "stdout"
        }
      ]
    },
    {
      "cell_type": "code",
      "metadata": {
        "colab": {
          "base_uri": "https://localhost:8080/"
        },
        "id": "gHxotC5Rez8K",
        "outputId": "c84f5177-34de-436c-9c56-dabb5b793d38"
      },
      "source": [
        "df.columns.values"
      ],
      "execution_count": 17,
      "outputs": [
        {
          "output_type": "execute_result",
          "data": {
            "text/plain": [
              "array(['eventid', 'iyear', 'imonth', 'iday', 'approxdate', 'extended',\n",
              "       'resolution', 'country', 'country_txt', 'region', 'region_txt',\n",
              "       'provstate', 'city', 'latitude', 'longitude', 'specificity',\n",
              "       'vicinity', 'location', 'summary', 'crit1', 'crit2', 'crit3',\n",
              "       'doubtterr', 'alternative', 'alternative_txt', 'multiple',\n",
              "       'success', 'suicide', 'attacktype1', 'attacktype1_txt',\n",
              "       'attacktype2', 'attacktype2_txt', 'attacktype3', 'attacktype3_txt',\n",
              "       'targtype1', 'targtype1_txt', 'targsubtype1', 'targsubtype1_txt',\n",
              "       'corp1', 'target1', 'natlty1', 'natlty1_txt', 'targtype2',\n",
              "       'targtype2_txt', 'targsubtype2', 'targsubtype2_txt', 'corp2',\n",
              "       'target2', 'natlty2', 'natlty2_txt', 'targtype3', 'targtype3_txt',\n",
              "       'targsubtype3', 'targsubtype3_txt', 'corp3', 'target3', 'natlty3',\n",
              "       'natlty3_txt', 'gname', 'gsubname', 'gname2', 'gsubname2',\n",
              "       'gname3', 'gsubname3', 'motive', 'guncertain1', 'guncertain2',\n",
              "       'guncertain3', 'individual', 'nperps', 'nperpcap', 'claimed',\n",
              "       'claimmode', 'claimmode_txt', 'claim2', 'claimmode2',\n",
              "       'claimmode2_txt', 'claim3', 'claimmode3', 'claimmode3_txt',\n",
              "       'compclaim', 'weaptype1', 'weaptype1_txt', 'weapsubtype1',\n",
              "       'weapsubtype1_txt', 'weaptype2', 'weaptype2_txt', 'weapsubtype2',\n",
              "       'weapsubtype2_txt', 'weaptype3', 'weaptype3_txt', 'weapsubtype3',\n",
              "       'weapsubtype3_txt', 'weaptype4', 'weaptype4_txt', 'weapsubtype4',\n",
              "       'weapsubtype4_txt', 'weapdetail', 'nkill', 'nkillus', 'nkillter',\n",
              "       'nwound', 'nwoundus', 'nwoundte', 'property', 'propextent',\n",
              "       'propextent_txt', 'propvalue', 'propcomment', 'ishostkid',\n",
              "       'nhostkid', 'nhostkidus', 'nhours', 'ndays', 'divert',\n",
              "       'kidhijcountry', 'ransom', 'ransomamt', 'ransomamtus',\n",
              "       'ransompaid', 'ransompaidus', 'ransomnote', 'hostkidoutcome',\n",
              "       'hostkidoutcome_txt', 'nreleased', 'addnotes', 'scite1', 'scite2',\n",
              "       'scite3', 'dbsource', 'INT_LOG', 'INT_IDEO', 'INT_MISC', 'INT_ANY',\n",
              "       'related'], dtype=object)"
            ]
          },
          "metadata": {
            "tags": []
          },
          "execution_count": 17
        }
      ]
    },
    {
      "cell_type": "code",
      "metadata": {
        "colab": {
          "base_uri": "https://localhost:8080/"
        },
        "id": "HMt2ldkCe19E",
        "outputId": "48be542e-a10e-423e-e47f-39ca30ae9263"
      },
      "source": [
        "df.count()"
      ],
      "execution_count": 18,
      "outputs": [
        {
          "output_type": "execute_result",
          "data": {
            "text/plain": [
              "eventid       181691\n",
              "iyear         181691\n",
              "imonth        181691\n",
              "iday          181691\n",
              "approxdate      9239\n",
              "               ...  \n",
              "INT_LOG       181691\n",
              "INT_IDEO      181691\n",
              "INT_MISC      181691\n",
              "INT_ANY       181691\n",
              "related        25038\n",
              "Length: 135, dtype: int64"
            ]
          },
          "metadata": {
            "tags": []
          },
          "execution_count": 18
        }
      ]
    },
    {
      "cell_type": "code",
      "metadata": {
        "colab": {
          "base_uri": "https://localhost:8080/"
        },
        "id": "AFAe1QTae5Vc",
        "outputId": "5e141ddb-a5ec-41ab-f39b-6153bf869779"
      },
      "source": [
        "df.isnull().sum()"
      ],
      "execution_count": 19,
      "outputs": [
        {
          "output_type": "execute_result",
          "data": {
            "text/plain": [
              "eventid            0\n",
              "iyear              0\n",
              "imonth             0\n",
              "iday               0\n",
              "approxdate    172452\n",
              "               ...  \n",
              "INT_LOG            0\n",
              "INT_IDEO           0\n",
              "INT_MISC           0\n",
              "INT_ANY            0\n",
              "related       156653\n",
              "Length: 135, dtype: int64"
            ]
          },
          "metadata": {
            "tags": []
          },
          "execution_count": 19
        }
      ]
    },
    {
      "cell_type": "code",
      "metadata": {
        "colab": {
          "base_uri": "https://localhost:8080/"
        },
        "id": "5HbMKUgle7tO",
        "outputId": "4693dd21-bd0d-47d5-b8e4-362b496d0913"
      },
      "source": [
        "missing_percentage = df.isnull().sum() * 100 / len(df)\n",
        "missing_percentage"
      ],
      "execution_count": 20,
      "outputs": [
        {
          "output_type": "execute_result",
          "data": {
            "text/plain": [
              "eventid        0.000000\n",
              "iyear          0.000000\n",
              "imonth         0.000000\n",
              "iday           0.000000\n",
              "approxdate    94.914993\n",
              "                ...    \n",
              "INT_LOG        0.000000\n",
              "INT_IDEO       0.000000\n",
              "INT_MISC       0.000000\n",
              "INT_ANY        0.000000\n",
              "related       86.219461\n",
              "Length: 135, dtype: float64"
            ]
          },
          "metadata": {
            "tags": []
          },
          "execution_count": 20
        }
      ]
    },
    {
      "cell_type": "code",
      "metadata": {
        "colab": {
          "base_uri": "https://localhost:8080/",
          "height": 1000
        },
        "id": "5q9Aeoc0e_sq",
        "outputId": "bdc22fde-e362-4fad-cac5-08873e9ceaa5"
      },
      "source": [
        "plt.figure(figsize=(18, 18))\n",
        "sns.heatmap(df.isnull(), yticklabels=False, cbar=False, cmap=\"viridis\")"
      ],
      "execution_count": 21,
      "outputs": [
        {
          "output_type": "execute_result",
          "data": {
            "text/plain": [
              "<matplotlib.axes._subplots.AxesSubplot at 0x7f6378933290>"
            ]
          },
          "metadata": {
            "tags": []
          },
          "execution_count": 21
        },
        {
          "output_type": "display_data",
          "data": {
            "image/png": "[encoded data removed]",
            "text/plain": [
              "<Figure size 1296x1296 with 1 Axes>"
            ]
          },
          "metadata": {
            "tags": [],
            "needs_background": "light"
          }
        }
      ]
    },
    {
      "cell_type": "code",
      "metadata": {
        "id": "hNTGt9kYfCBK"
      },
      "source": [
        "df.dropna(axis=1, inplace=True)"
      ],
      "execution_count": 22,
      "outputs": []
    },
    {
      "cell_type": "code",
      "metadata": {
        "colab": {
          "base_uri": "https://localhost:8080/"
        },
        "id": "7dUP7IDbfP1i",
        "outputId": "600c9389-1e29-4516-b0a0-959311f0605b"
      },
      "source": [
        "df.shape"
      ],
      "execution_count": 23,
      "outputs": [
        {
          "output_type": "execute_result",
          "data": {
            "text/plain": [
              "(181691, 29)"
            ]
          },
          "metadata": {
            "tags": []
          },
          "execution_count": 23
        }
      ]
    },
    {
      "cell_type": "code",
      "metadata": {
        "colab": {
          "base_uri": "https://localhost:8080/",
          "height": 746
        },
        "id": "2nOivFo5fRcU",
        "outputId": "f63f224a-d5e0-4269-9b6f-c677710c684d"
      },
      "source": [
        "df.corr()"
      ],
      "execution_count": 24,
      "outputs": [
        {
          "output_type": "execute_result",
          "data": {
            "text/html": [
              "<div>\n",
              "<style scoped>\n",
              "    .dataframe tbody tr th:only-of-type {\n",
              "        vertical-align: middle;\n",
              "    }\n",
              "\n",
              "    .dataframe tbody tr th {\n",
              "        vertical-align: top;\n",
              "    }\n",
              "\n",
              "    .dataframe thead th {\n",
              "        text-align: right;\n",
              "    }\n",
              "</style>\n",
              "<table border=\"1\" class=\"dataframe\">\n",
              "  <thead>\n",
              "    <tr style=\"text-align: right;\">\n",
              "      <th></th>\n",
              "      <th>eventid</th>\n",
              "      <th>iyear</th>\n",
              "      <th>imonth</th>\n",
              "      <th>iday</th>\n",
              "      <th>extended</th>\n",
              "      <th>country</th>\n",
              "      <th>region</th>\n",
              "      <th>vicinity</th>\n",
              "      <th>crit1</th>\n",
              "      <th>crit2</th>\n",
              "      <th>crit3</th>\n",
              "      <th>success</th>\n",
              "      <th>suicide</th>\n",
              "      <th>attacktype1</th>\n",
              "      <th>targtype1</th>\n",
              "      <th>individual</th>\n",
              "      <th>weaptype1</th>\n",
              "      <th>property</th>\n",
              "      <th>INT_LOG</th>\n",
              "      <th>INT_IDEO</th>\n",
              "      <th>INT_MISC</th>\n",
              "      <th>INT_ANY</th>\n",
              "    </tr>\n",
              "  </thead>\n",
              "  <tbody>\n",
              "    <tr>\n",
              "      <th>eventid</th>\n",
              "      <td>1.000000</td>\n",
              "      <td>0.999996</td>\n",
              "      <td>0.002706</td>\n",
              "      <td>0.018336</td>\n",
              "      <td>0.091761</td>\n",
              "      <td>-0.135039</td>\n",
              "      <td>0.401371</td>\n",
              "      <td>0.070646</td>\n",
              "      <td>0.002019</td>\n",
              "      <td>0.026215</td>\n",
              "      <td>-0.016789</td>\n",
              "      <td>-0.082972</td>\n",
              "      <td>0.137743</td>\n",
              "      <td>0.074173</td>\n",
              "      <td>0.079080</td>\n",
              "      <td>0.017939</td>\n",
              "      <td>-0.011716</td>\n",
              "      <td>-0.278927</td>\n",
              "      <td>-0.143600</td>\n",
              "      <td>-0.133252</td>\n",
              "      <td>-0.077852</td>\n",
              "      <td>-0.175605</td>\n",
              "    </tr>\n",
              "    <tr>\n",
              "      <th>iyear</th>\n",
              "      <td>0.999996</td>\n",
              "      <td>1.000000</td>\n",
              "      <td>0.000139</td>\n",
              "      <td>0.018254</td>\n",
              "      <td>0.091754</td>\n",
              "      <td>-0.135023</td>\n",
              "      <td>0.401384</td>\n",
              "      <td>0.070659</td>\n",
              "      <td>0.001995</td>\n",
              "      <td>0.026211</td>\n",
              "      <td>-0.016784</td>\n",
              "      <td>-0.082963</td>\n",
              "      <td>0.137736</td>\n",
              "      <td>0.074153</td>\n",
              "      <td>0.079082</td>\n",
              "      <td>0.017944</td>\n",
              "      <td>-0.011737</td>\n",
              "      <td>-0.278916</td>\n",
              "      <td>-0.143601</td>\n",
              "      <td>-0.133253</td>\n",
              "      <td>-0.077847</td>\n",
              "      <td>-0.175596</td>\n",
              "    </tr>\n",
              "    <tr>\n",
              "      <th>imonth</th>\n",
              "      <td>0.002706</td>\n",
              "      <td>0.000139</td>\n",
              "      <td>1.000000</td>\n",
              "      <td>0.005497</td>\n",
              "      <td>-0.000468</td>\n",
              "      <td>-0.006305</td>\n",
              "      <td>-0.002999</td>\n",
              "      <td>-0.004501</td>\n",
              "      <td>0.001568</td>\n",
              "      <td>0.001734</td>\n",
              "      <td>0.000176</td>\n",
              "      <td>-0.002845</td>\n",
              "      <td>0.003071</td>\n",
              "      <td>0.006705</td>\n",
              "      <td>-0.000948</td>\n",
              "      <td>-0.001661</td>\n",
              "      <td>0.007863</td>\n",
              "      <td>-0.005816</td>\n",
              "      <td>-0.002302</td>\n",
              "      <td>-0.002034</td>\n",
              "      <td>-0.002554</td>\n",
              "      <td>-0.006336</td>\n",
              "    </tr>\n",
              "    <tr>\n",
              "      <th>iday</th>\n",
              "      <td>0.018336</td>\n",
              "      <td>0.018254</td>\n",
              "      <td>0.005497</td>\n",
              "      <td>1.000000</td>\n",
              "      <td>-0.004700</td>\n",
              "      <td>0.003468</td>\n",
              "      <td>0.009710</td>\n",
              "      <td>-0.005367</td>\n",
              "      <td>0.011434</td>\n",
              "      <td>-0.002702</td>\n",
              "      <td>-0.004889</td>\n",
              "      <td>-0.011802</td>\n",
              "      <td>0.003593</td>\n",
              "      <td>-0.005333</td>\n",
              "      <td>-0.000052</td>\n",
              "      <td>-0.003788</td>\n",
              "      <td>-0.003019</td>\n",
              "      <td>-0.003903</td>\n",
              "      <td>-0.001540</td>\n",
              "      <td>-0.001621</td>\n",
              "      <td>-0.002027</td>\n",
              "      <td>-0.001199</td>\n",
              "    </tr>\n",
              "    <tr>\n",
              "      <th>extended</th>\n",
              "      <td>0.091761</td>\n",
              "      <td>0.091754</td>\n",
              "      <td>-0.000468</td>\n",
              "      <td>-0.004700</td>\n",
              "      <td>1.000000</td>\n",
              "      <td>-0.020466</td>\n",
              "      <td>0.038389</td>\n",
              "      <td>0.017784</td>\n",
              "      <td>-0.015029</td>\n",
              "      <td>0.001249</td>\n",
              "      <td>0.048533</td>\n",
              "      <td>0.073233</td>\n",
              "      <td>-0.033961</td>\n",
              "      <td>0.272272</td>\n",
              "      <td>0.011613</td>\n",
              "      <td>-0.008929</td>\n",
              "      <td>0.207802</td>\n",
              "      <td>-0.002096</td>\n",
              "      <td>0.071768</td>\n",
              "      <td>0.075147</td>\n",
              "      <td>0.027335</td>\n",
              "      <td>0.080767</td>\n",
              "    </tr>\n",
              "    <tr>\n",
              "      <th>country</th>\n",
              "      <td>-0.135039</td>\n",
              "      <td>-0.135023</td>\n",
              "      <td>-0.006305</td>\n",
              "      <td>0.003468</td>\n",
              "      <td>-0.020466</td>\n",
              "      <td>1.000000</td>\n",
              "      <td>0.148597</td>\n",
              "      <td>-0.012291</td>\n",
              "      <td>-0.006646</td>\n",
              "      <td>-0.038480</td>\n",
              "      <td>-0.040288</td>\n",
              "      <td>-0.037827</td>\n",
              "      <td>-0.050360</td>\n",
              "      <td>-0.021384</td>\n",
              "      <td>-0.019703</td>\n",
              "      <td>0.027918</td>\n",
              "      <td>-0.023708</td>\n",
              "      <td>0.032051</td>\n",
              "      <td>0.069904</td>\n",
              "      <td>0.067564</td>\n",
              "      <td>0.207281</td>\n",
              "      <td>0.153118</td>\n",
              "    </tr>\n",
              "    <tr>\n",
              "      <th>region</th>\n",
              "      <td>0.401371</td>\n",
              "      <td>0.401384</td>\n",
              "      <td>-0.002999</td>\n",
              "      <td>0.009710</td>\n",
              "      <td>0.038389</td>\n",
              "      <td>0.148597</td>\n",
              "      <td>1.000000</td>\n",
              "      <td>0.073678</td>\n",
              "      <td>0.025521</td>\n",
              "      <td>-0.013163</td>\n",
              "      <td>-0.010175</td>\n",
              "      <td>-0.030909</td>\n",
              "      <td>0.112672</td>\n",
              "      <td>0.007642</td>\n",
              "      <td>0.041396</td>\n",
              "      <td>-0.059963</td>\n",
              "      <td>0.013257</td>\n",
              "      <td>-0.183279</td>\n",
              "      <td>-0.082584</td>\n",
              "      <td>-0.071917</td>\n",
              "      <td>0.043139</td>\n",
              "      <td>-0.047900</td>\n",
              "    </tr>\n",
              "    <tr>\n",
              "      <th>vicinity</th>\n",
              "      <td>0.070646</td>\n",
              "      <td>0.070659</td>\n",
              "      <td>-0.004501</td>\n",
              "      <td>-0.005367</td>\n",
              "      <td>0.017784</td>\n",
              "      <td>-0.012291</td>\n",
              "      <td>0.073678</td>\n",
              "      <td>1.000000</td>\n",
              "      <td>0.003330</td>\n",
              "      <td>-0.000534</td>\n",
              "      <td>-0.054995</td>\n",
              "      <td>-0.002223</td>\n",
              "      <td>0.008352</td>\n",
              "      <td>0.006504</td>\n",
              "      <td>0.024644</td>\n",
              "      <td>-0.011986</td>\n",
              "      <td>0.001496</td>\n",
              "      <td>-0.019811</td>\n",
              "      <td>0.014487</td>\n",
              "      <td>0.015119</td>\n",
              "      <td>-0.008232</td>\n",
              "      <td>0.010325</td>\n",
              "    </tr>\n",
              "    <tr>\n",
              "      <th>crit1</th>\n",
              "      <td>0.002019</td>\n",
              "      <td>0.001995</td>\n",
              "      <td>0.001568</td>\n",
              "      <td>0.011434</td>\n",
              "      <td>-0.015029</td>\n",
              "      <td>-0.006646</td>\n",
              "      <td>0.025521</td>\n",
              "      <td>0.003330</td>\n",
              "      <td>1.000000</td>\n",
              "      <td>-0.008984</td>\n",
              "      <td>-0.040589</td>\n",
              "      <td>-0.010733</td>\n",
              "      <td>0.019039</td>\n",
              "      <td>0.027544</td>\n",
              "      <td>-0.040026</td>\n",
              "      <td>-0.025591</td>\n",
              "      <td>0.029257</td>\n",
              "      <td>-0.007595</td>\n",
              "      <td>0.089973</td>\n",
              "      <td>0.089888</td>\n",
              "      <td>0.015692</td>\n",
              "      <td>0.082288</td>\n",
              "    </tr>\n",
              "    <tr>\n",
              "      <th>crit2</th>\n",
              "      <td>0.026215</td>\n",
              "      <td>0.026211</td>\n",
              "      <td>0.001734</td>\n",
              "      <td>-0.002702</td>\n",
              "      <td>0.001249</td>\n",
              "      <td>-0.038480</td>\n",
              "      <td>-0.013163</td>\n",
              "      <td>-0.000534</td>\n",
              "      <td>-0.008984</td>\n",
              "      <td>1.000000</td>\n",
              "      <td>-0.031425</td>\n",
              "      <td>-0.013476</td>\n",
              "      <td>0.002770</td>\n",
              "      <td>0.005157</td>\n",
              "      <td>-0.101522</td>\n",
              "      <td>0.003311</td>\n",
              "      <td>-0.008549</td>\n",
              "      <td>-0.002711</td>\n",
              "      <td>-0.024153</td>\n",
              "      <td>-0.023829</td>\n",
              "      <td>-0.012980</td>\n",
              "      <td>-0.027752</td>\n",
              "    </tr>\n",
              "    <tr>\n",
              "      <th>crit3</th>\n",
              "      <td>-0.016789</td>\n",
              "      <td>-0.016784</td>\n",
              "      <td>0.000176</td>\n",
              "      <td>-0.004889</td>\n",
              "      <td>0.048533</td>\n",
              "      <td>-0.040288</td>\n",
              "      <td>-0.010175</td>\n",
              "      <td>-0.054995</td>\n",
              "      <td>-0.040589</td>\n",
              "      <td>-0.031425</td>\n",
              "      <td>1.000000</td>\n",
              "      <td>-0.013678</td>\n",
              "      <td>-0.026620</td>\n",
              "      <td>0.028124</td>\n",
              "      <td>0.251296</td>\n",
              "      <td>0.016806</td>\n",
              "      <td>0.018320</td>\n",
              "      <td>0.013345</td>\n",
              "      <td>-0.134557</td>\n",
              "      <td>-0.138251</td>\n",
              "      <td>-0.036112</td>\n",
              "      <td>-0.130216</td>\n",
              "    </tr>\n",
              "    <tr>\n",
              "      <th>success</th>\n",
              "      <td>-0.082972</td>\n",
              "      <td>-0.082963</td>\n",
              "      <td>-0.002845</td>\n",
              "      <td>-0.011802</td>\n",
              "      <td>0.073233</td>\n",
              "      <td>-0.037827</td>\n",
              "      <td>-0.030909</td>\n",
              "      <td>-0.002223</td>\n",
              "      <td>-0.010733</td>\n",
              "      <td>-0.013476</td>\n",
              "      <td>-0.013678</td>\n",
              "      <td>1.000000</td>\n",
              "      <td>-0.031155</td>\n",
              "      <td>0.048408</td>\n",
              "      <td>-0.059637</td>\n",
              "      <td>-0.013868</td>\n",
              "      <td>-0.008178</td>\n",
              "      <td>-0.036876</td>\n",
              "      <td>0.059875</td>\n",
              "      <td>0.059183</td>\n",
              "      <td>-0.014906</td>\n",
              "      <td>0.038245</td>\n",
              "    </tr>\n",
              "    <tr>\n",
              "      <th>suicide</th>\n",
              "      <td>0.137743</td>\n",
              "      <td>0.137736</td>\n",
              "      <td>0.003071</td>\n",
              "      <td>0.003593</td>\n",
              "      <td>-0.033961</td>\n",
              "      <td>-0.050360</td>\n",
              "      <td>0.112672</td>\n",
              "      <td>0.008352</td>\n",
              "      <td>0.019039</td>\n",
              "      <td>0.002770</td>\n",
              "      <td>-0.026620</td>\n",
              "      <td>-0.031155</td>\n",
              "      <td>1.000000</td>\n",
              "      <td>-0.029962</td>\n",
              "      <td>-0.023440</td>\n",
              "      <td>0.000775</td>\n",
              "      <td>-0.039928</td>\n",
              "      <td>-0.073382</td>\n",
              "      <td>0.058735</td>\n",
              "      <td>0.065882</td>\n",
              "      <td>-0.000879</td>\n",
              "      <td>0.057241</td>\n",
              "    </tr>\n",
              "    <tr>\n",
              "      <th>attacktype1</th>\n",
              "      <td>0.074173</td>\n",
              "      <td>0.074153</td>\n",
              "      <td>0.006705</td>\n",
              "      <td>-0.005333</td>\n",
              "      <td>0.272272</td>\n",
              "      <td>-0.021384</td>\n",
              "      <td>0.007642</td>\n",
              "      <td>0.006504</td>\n",
              "      <td>0.027544</td>\n",
              "      <td>0.005157</td>\n",
              "      <td>0.028124</td>\n",
              "      <td>0.048408</td>\n",
              "      <td>-0.029962</td>\n",
              "      <td>1.000000</td>\n",
              "      <td>0.014513</td>\n",
              "      <td>0.016438</td>\n",
              "      <td>0.658954</td>\n",
              "      <td>0.031976</td>\n",
              "      <td>0.075002</td>\n",
              "      <td>0.077225</td>\n",
              "      <td>0.010632</td>\n",
              "      <td>0.088711</td>\n",
              "    </tr>\n",
              "    <tr>\n",
              "      <th>targtype1</th>\n",
              "      <td>0.079080</td>\n",
              "      <td>0.079082</td>\n",
              "      <td>-0.000948</td>\n",
              "      <td>-0.000052</td>\n",
              "      <td>0.011613</td>\n",
              "      <td>-0.019703</td>\n",
              "      <td>0.041396</td>\n",
              "      <td>0.024644</td>\n",
              "      <td>-0.040026</td>\n",
              "      <td>-0.101522</td>\n",
              "      <td>0.251296</td>\n",
              "      <td>-0.059637</td>\n",
              "      <td>-0.023440</td>\n",
              "      <td>0.014513</td>\n",
              "      <td>1.000000</td>\n",
              "      <td>0.005267</td>\n",
              "      <td>0.019846</td>\n",
              "      <td>0.004897</td>\n",
              "      <td>-0.056550</td>\n",
              "      <td>-0.058010</td>\n",
              "      <td>-0.043492</td>\n",
              "      <td>-0.054497</td>\n",
              "    </tr>\n",
              "    <tr>\n",
              "      <th>individual</th>\n",
              "      <td>0.017939</td>\n",
              "      <td>0.017944</td>\n",
              "      <td>-0.001661</td>\n",
              "      <td>-0.003788</td>\n",
              "      <td>-0.008929</td>\n",
              "      <td>0.027918</td>\n",
              "      <td>-0.059963</td>\n",
              "      <td>-0.011986</td>\n",
              "      <td>-0.025591</td>\n",
              "      <td>0.003311</td>\n",
              "      <td>0.016806</td>\n",
              "      <td>-0.013868</td>\n",
              "      <td>0.000775</td>\n",
              "      <td>0.016438</td>\n",
              "      <td>0.005267</td>\n",
              "      <td>1.000000</td>\n",
              "      <td>0.005754</td>\n",
              "      <td>0.006625</td>\n",
              "      <td>-0.048526</td>\n",
              "      <td>-0.048542</td>\n",
              "      <td>0.005490</td>\n",
              "      <td>-0.037488</td>\n",
              "    </tr>\n",
              "    <tr>\n",
              "      <th>weaptype1</th>\n",
              "      <td>-0.011716</td>\n",
              "      <td>-0.011737</td>\n",
              "      <td>0.007863</td>\n",
              "      <td>-0.003019</td>\n",
              "      <td>0.207802</td>\n",
              "      <td>-0.023708</td>\n",
              "      <td>0.013257</td>\n",
              "      <td>0.001496</td>\n",
              "      <td>0.029257</td>\n",
              "      <td>-0.008549</td>\n",
              "      <td>0.018320</td>\n",
              "      <td>-0.008178</td>\n",
              "      <td>-0.039928</td>\n",
              "      <td>0.658954</td>\n",
              "      <td>0.019846</td>\n",
              "      <td>0.005754</td>\n",
              "      <td>1.000000</td>\n",
              "      <td>0.018999</td>\n",
              "      <td>0.072941</td>\n",
              "      <td>0.074702</td>\n",
              "      <td>-0.011652</td>\n",
              "      <td>0.084257</td>\n",
              "    </tr>\n",
              "    <tr>\n",
              "      <th>property</th>\n",
              "      <td>-0.278927</td>\n",
              "      <td>-0.278916</td>\n",
              "      <td>-0.005816</td>\n",
              "      <td>-0.003903</td>\n",
              "      <td>-0.002096</td>\n",
              "      <td>0.032051</td>\n",
              "      <td>-0.183279</td>\n",
              "      <td>-0.019811</td>\n",
              "      <td>-0.007595</td>\n",
              "      <td>-0.002711</td>\n",
              "      <td>0.013345</td>\n",
              "      <td>-0.036876</td>\n",
              "      <td>-0.073382</td>\n",
              "      <td>0.031976</td>\n",
              "      <td>0.004897</td>\n",
              "      <td>0.006625</td>\n",
              "      <td>0.018999</td>\n",
              "      <td>1.000000</td>\n",
              "      <td>0.052445</td>\n",
              "      <td>0.047609</td>\n",
              "      <td>0.022058</td>\n",
              "      <td>0.065701</td>\n",
              "    </tr>\n",
              "    <tr>\n",
              "      <th>INT_LOG</th>\n",
              "      <td>-0.143600</td>\n",
              "      <td>-0.143601</td>\n",
              "      <td>-0.002302</td>\n",
              "      <td>-0.001540</td>\n",
              "      <td>0.071768</td>\n",
              "      <td>0.069904</td>\n",
              "      <td>-0.082584</td>\n",
              "      <td>0.014487</td>\n",
              "      <td>0.089973</td>\n",
              "      <td>-0.024153</td>\n",
              "      <td>-0.134557</td>\n",
              "      <td>0.059875</td>\n",
              "      <td>0.058735</td>\n",
              "      <td>0.075002</td>\n",
              "      <td>-0.056550</td>\n",
              "      <td>-0.048526</td>\n",
              "      <td>0.072941</td>\n",
              "      <td>0.052445</td>\n",
              "      <td>1.000000</td>\n",
              "      <td>0.996211</td>\n",
              "      <td>0.052537</td>\n",
              "      <td>0.891051</td>\n",
              "    </tr>\n",
              "    <tr>\n",
              "      <th>INT_IDEO</th>\n",
              "      <td>-0.133252</td>\n",
              "      <td>-0.133253</td>\n",
              "      <td>-0.002034</td>\n",
              "      <td>-0.001621</td>\n",
              "      <td>0.075147</td>\n",
              "      <td>0.067564</td>\n",
              "      <td>-0.071917</td>\n",
              "      <td>0.015119</td>\n",
              "      <td>0.089888</td>\n",
              "      <td>-0.023829</td>\n",
              "      <td>-0.138251</td>\n",
              "      <td>0.059183</td>\n",
              "      <td>0.065882</td>\n",
              "      <td>0.077225</td>\n",
              "      <td>-0.058010</td>\n",
              "      <td>-0.048542</td>\n",
              "      <td>0.074702</td>\n",
              "      <td>0.047609</td>\n",
              "      <td>0.996211</td>\n",
              "      <td>1.000000</td>\n",
              "      <td>0.082014</td>\n",
              "      <td>0.893811</td>\n",
              "    </tr>\n",
              "    <tr>\n",
              "      <th>INT_MISC</th>\n",
              "      <td>-0.077852</td>\n",
              "      <td>-0.077847</td>\n",
              "      <td>-0.002554</td>\n",
              "      <td>-0.002027</td>\n",
              "      <td>0.027335</td>\n",
              "      <td>0.207281</td>\n",
              "      <td>0.043139</td>\n",
              "      <td>-0.008232</td>\n",
              "      <td>0.015692</td>\n",
              "      <td>-0.012980</td>\n",
              "      <td>-0.036112</td>\n",
              "      <td>-0.014906</td>\n",
              "      <td>-0.000879</td>\n",
              "      <td>0.010632</td>\n",
              "      <td>-0.043492</td>\n",
              "      <td>0.005490</td>\n",
              "      <td>-0.011652</td>\n",
              "      <td>0.022058</td>\n",
              "      <td>0.052537</td>\n",
              "      <td>0.082014</td>\n",
              "      <td>1.000000</td>\n",
              "      <td>0.252193</td>\n",
              "    </tr>\n",
              "    <tr>\n",
              "      <th>INT_ANY</th>\n",
              "      <td>-0.175605</td>\n",
              "      <td>-0.175596</td>\n",
              "      <td>-0.006336</td>\n",
              "      <td>-0.001199</td>\n",
              "      <td>0.080767</td>\n",
              "      <td>0.153118</td>\n",
              "      <td>-0.047900</td>\n",
              "      <td>0.010325</td>\n",
              "      <td>0.082288</td>\n",
              "      <td>-0.027752</td>\n",
              "      <td>-0.130216</td>\n",
              "      <td>0.038245</td>\n",
              "      <td>0.057241</td>\n",
              "      <td>0.088711</td>\n",
              "      <td>-0.054497</td>\n",
              "      <td>-0.037488</td>\n",
              "      <td>0.084257</td>\n",
              "      <td>0.065701</td>\n",
              "      <td>0.891051</td>\n",
              "      <td>0.893811</td>\n",
              "      <td>0.252193</td>\n",
              "      <td>1.000000</td>\n",
              "    </tr>\n",
              "  </tbody>\n",
              "</table>\n",
              "</div>"
            ],
            "text/plain": [
              "              eventid     iyear    imonth  ...  INT_IDEO  INT_MISC   INT_ANY\n",
              "eventid      1.000000  0.999996  0.002706  ... -0.133252 -0.077852 -0.175605\n",
              "iyear        0.999996  1.000000  0.000139  ... -0.133253 -0.077847 -0.175596\n",
              "imonth       0.002706  0.000139  1.000000  ... -0.002034 -0.002554 -0.006336\n",
              "iday         0.018336  0.018254  0.005497  ... -0.001621 -0.002027 -0.001199\n",
              "extended     0.091761  0.091754 -0.000468  ...  0.075147  0.027335  0.080767\n",
              "country     -0.135039 -0.135023 -0.006305  ...  0.067564  0.207281  0.153118\n",
              "region       0.401371  0.401384 -0.002999  ... -0.071917  0.043139 -0.047900\n",
              "vicinity     0.070646  0.070659 -0.004501  ...  0.015119 -0.008232  0.010325\n",
              "crit1        0.002019  0.001995  0.001568  ...  0.089888  0.015692  0.082288\n",
              "crit2        0.026215  0.026211  0.001734  ... -0.023829 -0.012980 -0.027752\n",
              "crit3       -0.016789 -0.016784  0.000176  ... -0.138251 -0.036112 -0.130216\n",
              "success     -0.082972 -0.082963 -0.002845  ...  0.059183 -0.014906  0.038245\n",
              "suicide      0.137743  0.137736  0.003071  ...  0.065882 -0.000879  0.057241\n",
              "attacktype1  0.074173  0.074153  0.006705  ...  0.077225  0.010632  0.088711\n",
              "targtype1    0.079080  0.079082 -0.000948  ... -0.058010 -0.043492 -0.054497\n",
              "individual   0.017939  0.017944 -0.001661  ... -0.048542  0.005490 -0.037488\n",
              "weaptype1   -0.011716 -0.011737  0.007863  ...  0.074702 -0.011652  0.084257\n",
              "property    -0.278927 -0.278916 -0.005816  ...  0.047609  0.022058  0.065701\n",
              "INT_LOG     -0.143600 -0.143601 -0.002302  ...  0.996211  0.052537  0.891051\n",
              "INT_IDEO    -0.133252 -0.133253 -0.002034  ...  1.000000  0.082014  0.893811\n",
              "INT_MISC    -0.077852 -0.077847 -0.002554  ...  0.082014  1.000000  0.252193\n",
              "INT_ANY     -0.175605 -0.175596 -0.006336  ...  0.893811  0.252193  1.000000\n",
              "\n",
              "[22 rows x 22 columns]"
            ]
          },
          "metadata": {
            "tags": []
          },
          "execution_count": 24
        }
      ]
    },
    {
      "cell_type": "markdown",
      "metadata": {
        "id": "gq4z1b4dfaAP"
      },
      "source": [
        "**Visualization of Data**"
      ]
    },
    {
      "cell_type": "code",
      "metadata": {
        "colab": {
          "base_uri": "https://localhost:8080/",
          "height": 725
        },
        "id": "LJ74NhwHfS54",
        "outputId": "c6246b28-2fea-4159-eb54-cacafe782878"
      },
      "source": [
        "plt.rcParams[\"figure.figsize\"] = 15, 11\n",
        "sns.countplot(x = df[\"iyear\"])\n",
        "plt.ylabel(\"Number of Attacks\", fontsize=18)\n",
        "plt.xticks(rotation=90)\n",
        "plt.xlabel(\"Attack Year\", fontsize=18)\n",
        "plt.title(\"Increase in Terror\", size=25, fontweight=\"bold\")"
      ],
      "execution_count": 25,
      "outputs": [
        {
          "output_type": "execute_result",
          "data": {
            "text/plain": [
              "Text(0.5, 1.0, 'Increase in Terror')"
            ]
          },
          "metadata": {
            "tags": []
          },
          "execution_count": 25
        },
        {
          "output_type": "display_data",
          "data": {
            "image/png": "[encoded data removed]",
            "text/plain": [
              "<Figure size 1080x792 with 1 Axes>"
            ]
          },
          "metadata": {
            "tags": [],
            "needs_background": "light"
          }
        }
      ]
    },
    {
      "cell_type": "code",
      "metadata": {
        "colab": {
          "base_uri": "https://localhost:8080/",
          "height": 725
        },
        "id": "6pMVCbNNfeRB",
        "outputId": "f76eb6d4-4573-46dd-b52d-1611ac2ec70c"
      },
      "source": [
        "plt.rcParams[\"figure.figsize\"] = 15, 11\n",
        "sns.countplot(x = df[\"iyear\"], hue=\"success\", data=df)\n",
        "plt.ylabel(\"Number of Attacks\", fontsize=18)\n",
        "plt.xticks(rotation=90)\n",
        "plt.xlabel(\"Attack Year\", fontsize=18)\n",
        "plt.title(\"Increase in Terror\", size=25, fontweight=\"bold\")"
      ],
      "execution_count": 26,
      "outputs": [
        {
          "output_type": "execute_result",
          "data": {
            "text/plain": [
              "Text(0.5, 1.0, 'Increase in Terror')"
            ]
          },
          "metadata": {
            "tags": []
          },
          "execution_count": 26
        },
        {
          "output_type": "display_data",
          "data": {
            "image/png": "[encoded data removed]",
            "text/plain": [
              "<Figure size 1080x792 with 1 Axes>"
            ]
          },
          "metadata": {
            "tags": [],
            "needs_background": "light"
          }
        }
      ]
    },
    {
      "cell_type": "code",
      "metadata": {
        "colab": {
          "base_uri": "https://localhost:8080/",
          "height": 821
        },
        "id": "K_Vwv2bXfhTX",
        "outputId": "d059d2bb-2953-4c9c-ff04-05207dce2c1d"
      },
      "source": [
        "plt.rcParams[\"figure.figsize\"] = 15, 11\n",
        "sns.countplot(x = df[\"region_txt\"], hue=\"success\", data=df)\n",
        "plt.ylabel(\"Number of Attacks\", fontsize=18)\n",
        "plt.xticks(rotation=90)\n",
        "plt.xlabel(\"Attack Region\", fontsize=18)"
      ],
      "execution_count": 27,
      "outputs": [
        {
          "output_type": "execute_result",
          "data": {
            "text/plain": [
              "Text(0.5, 0, 'Attack Region')"
            ]
          },
          "metadata": {
            "tags": []
          },
          "execution_count": 27
        },
        {
          "output_type": "display_data",
          "data": {
            "image/png": "[encoded data removed]",
            "text/plain": [
              "<Figure size 1080x792 with 1 Axes>"
            ]
          },
          "metadata": {
            "tags": [],
            "needs_background": "light"
          }
        }
      ]
    },
    {
      "cell_type": "code",
      "metadata": {
        "colab": {
          "base_uri": "https://localhost:8080/",
          "height": 780
        },
        "id": "tsuXtwHrfkP0",
        "outputId": "41f53dce-7e88-4df6-fc55-914ed71529c6"
      },
      "source": [
        "plt.rcParams[\"figure.figsize\"] = 15, 11\n",
        "sns.barplot(x = df[\"country_txt\"].value_counts()[:20].index, y=df[\"country_txt\"].value_counts()[:20].values)\n",
        "plt.ylabel(\"Number of Attacks\", fontsize=18)\n",
        "plt.xticks(rotation=90)\n",
        "plt.xlabel(\"Attack Region\", fontsize=18)\n",
        "plt.title(\"Country wise Attacks\", size=25, fontweight=\"bold\")"
      ],
      "execution_count": 28,
      "outputs": [
        {
          "output_type": "execute_result",
          "data": {
            "text/plain": [
              "Text(0.5, 1.0, 'Country wise Attacks')"
            ]
          },
          "metadata": {
            "tags": []
          },
          "execution_count": 28
        },
        {
          "output_type": "display_data",
          "data": {
            "image/png": "[encoded data removed]",
            "text/plain": [
              "<Figure size 1080x792 with 1 Axes>"
            ]
          },
          "metadata": {
            "tags": [],
            "needs_background": "light"
          }
        }
      ]
    },
    {
      "cell_type": "code",
      "metadata": {
        "colab": {
          "base_uri": "https://localhost:8080/",
          "height": 879
        },
        "id": "29E36RXefrZm",
        "outputId": "0c528fed-a58f-48cd-932d-e4873c1b20cb"
      },
      "source": [
        "plt.rcParams[\"figure.figsize\"] = 15, 11\n",
        "sns.barplot(x = df[\"attacktype1_txt\"].value_counts()[:20].index, y=df[\"attacktype1_txt\"].value_counts()[:20].values)\n",
        "plt.ylabel(\"Total Attack\", fontsize=18)\n",
        "plt.xticks(rotation=90)\n",
        "plt.xlabel(\"Attack Type\", fontsize=18)\n",
        "plt.title(\"Attacks Types\", size=25, fontweight=\"bold\")"
      ],
      "execution_count": 29,
      "outputs": [
        {
          "output_type": "execute_result",
          "data": {
            "text/plain": [
              "Text(0.5, 1.0, 'Attacks Types')"
            ]
          },
          "metadata": {
            "tags": []
          },
          "execution_count": 29
        },
        {
          "output_type": "display_data",
          "data": {
            "image/png": "[encoded data removed]",
            "text/plain": [
              "<Figure size 1080x792 with 1 Axes>"
            ]
          },
          "metadata": {
            "tags": [],
            "needs_background": "light"
          }
        }
      ]
    },
    {
      "cell_type": "code",
      "metadata": {
        "colab": {
          "base_uri": "https://localhost:8080/",
          "height": 946
        },
        "id": "rmcAm9wIfvk3",
        "outputId": "edab607f-8c03-49aa-e4b9-a65a869642d4"
      },
      "source": [
        "plt.rcParams[\"figure.figsize\"] = 15, 11\n",
        "sns.barplot(x = df[\"gname\"].value_counts()[:20].index, y=df[\"gname\"].value_counts()[:20].values)\n",
        "plt.ylabel(\"Total Attack\", fontsize=18)\n",
        "plt.xticks(rotation=90)\n",
        "plt.xlabel(\"Attack Group\", fontsize=18)\n",
        "plt.title(\"Attacks Group\", size=25, fontweight=\"bold\")"
      ],
      "execution_count": 30,
      "outputs": [
        {
          "output_type": "execute_result",
          "data": {
            "text/plain": [
              "Text(0.5, 1.0, 'Attacks Group')"
            ]
          },
          "metadata": {
            "tags": []
          },
          "execution_count": 30
        },
        {
          "output_type": "display_data",
          "data": {
            "image/png": "[encoded data removed]",
            "text/plain": [
              "<Figure size 1080x792 with 1 Axes>"
            ]
          },
          "metadata": {
            "tags": [],
            "needs_background": "light"
          }
        }
      ]
    },
    {
      "cell_type": "markdown",
      "metadata": {
        "id": "w8aU4AL1f23O"
      },
      "source": [
        "**Conclusion**"
      ]
    },
    {
      "cell_type": "markdown",
      "metadata": {
        "id": "k0xQvC5if_dp"
      },
      "source": [
        "**Iraq** is ranked first on Global Terrorism activity followed by **Pakistan, Afganistan, India** etc...\n",
        "\n",
        "**Middle East & North Africa** is the region with most attacks.\n",
        "\n",
        "Most targeted areas are private citizens and infrastructure, military, police etc...\n",
        "\n",
        "Global Terror attacks rose sharply since **2012**\n",
        "\n",
        "Year with most terrorist attacks: **2014**\n",
        "\n",
        "Most attack types: **Bombing/Explosion**\n",
        "\n",
        "**Taliban** is the known group with most attacks."
      ]
    },
    {
      "cell_type": "code",
      "metadata": {
        "id": "BFxCIrRhfx65"
      },
      "source": [
        ""
      ],
      "execution_count": null,
      "outputs": []
    }
  ]
}